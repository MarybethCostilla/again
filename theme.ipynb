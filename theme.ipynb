{
  "cells": [
    {
      "cell_type": "raw",
      "metadata": {},
      "source": [
        "---\n",
        "title: \"theme\"\n",
        "format: revealjs\n",
        "---"
      ],
      "id": "ec21e0cf"
    },
    {
      "cell_type": "raw",
      "metadata": {},
      "source": [
        "---\n",
        "title: Teste de solução\n",
        "format: html\n",
        "engine: knitr\n",
        "---"
      ],
      "id": "7f7a4d17"
    },
    {
      "cell_type": "markdown",
      "metadata": {},
      "source": [
        "```{css, echo = FALSE}\n",
        "\n",
        ".justify {\n",
        "\n",
        "  text-align:\n",
        "justify !important\n",
        "}\n",
        "\n",
        "```\n",
        "\n",
        "\n",
        "\n",
        "## Testando\n",
        "\n",
        ":::{.justify}\n",
        "Teste de texto justificado Teste de texto justificado Teste de texto\n",
        "justificado Teste de texto justificado Teste de texto justificado Teste de\n",
        "texto justificado Teste de texto justificado Teste de texto justificado\n",
        "Teste de texto justificado Teste de texto justificado v Teste de texto\n",
        "justificado Teste de texto justificado Teste de texto justificado Teste de\n",
        "texto justificado Teste de texto justificado\n",
        "\n",
        ":::"
      ],
      "id": "f0cea356"
    }
  ],
  "metadata": {
    "kernelspec": {
      "display_name": "Python 3",
      "language": "python",
      "name": "python3"
    }
  },
  "nbformat": 4,
  "nbformat_minor": 5
}